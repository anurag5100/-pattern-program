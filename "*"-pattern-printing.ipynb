{
 "cells": [
  {
   "cell_type": "code",
   "execution_count": 1,
   "id": "345f3f5d",
   "metadata": {},
   "outputs": [
    {
     "name": "stdout",
     "output_type": "stream",
     "text": [
      "Enter 3\n",
      "*  *  *  \n",
      " *  *  *  \n",
      "  *  *  *  \n",
      "*  *  *  \n",
      " *  *  *  \n",
      "  *  *  *  \n",
      "*  *  *  \n",
      " *  *  *  \n",
      "  *  *  *  \n"
     ]
    }
   ],
   "source": [
    "a=int(input(\"Enter \"))\n",
    "i=1                   # i is for iteration in while loop\n",
    "x=1                   # x is for to check condition and do iteration \n",
    "z=a                   # z is for storing value of a and check for break condition \n",
    "b=a-1\n",
    "#for i in range(1,(a*a)+1):\n",
    "while i<((a*a)+1):\n",
    "    #print(i)\n",
    "    if i<=z:\n",
    "        if i==1:\n",
    "            print((\"*\"+\" \"*(b))*a)\n",
    "        else:\n",
    "            print(\" \"*(i-1),end=\"\")\n",
    "            print((\"*\"+\" \"*(b))*(a))\n",
    "    else:\n",
    "        if x==z:\n",
    "            break\n",
    "        else:\n",
    "            i=0\n",
    "            x=x+1\n",
    "    i+=1"
   ]
  },
  {
   "cell_type": "code",
   "execution_count": 2,
   "id": "253cf669",
   "metadata": {},
   "outputs": [
    {
     "name": "stdout",
     "output_type": "stream",
     "text": [
      "Enter 3\n",
      "  *  *  *  \n",
      " *  *  *  \n",
      "*  *  *  \n",
      "  *  *  *  \n",
      " *  *  *  \n",
      "*  *  *  \n",
      "  *  *  *  \n",
      " *  *  *  \n",
      "*  *  *  \n"
     ]
    }
   ],
   "source": [
    "a=int(input(\"Enter \"))\n",
    "i=a                   # i is for iteration in while loop\n",
    "x=1                   # x is for to check condition and do iteration \n",
    "z=a                   # z is for storing value of a and check for break condition \n",
    "b=a-1\n",
    "#for i in range(1,(a*a)+1):\n",
    "while i<((a*a)+1):\n",
    "    #print(i)\n",
    "    if i<=z and i>0:\n",
    "        if i==1:\n",
    "            print((\"*\"+\" \"*(b))*a)\n",
    "        else:\n",
    "            print(\" \"*(i-1),end=\"\")\n",
    "            print((\"*\"+\" \"*(b))*(a))\n",
    "    else:\n",
    "        if x==z:\n",
    "            break\n",
    "        else:\n",
    "            i=a+1\n",
    "            x=x+1\n",
    "    i-=1"
   ]
  },
  {
   "cell_type": "code",
   "execution_count": 3,
   "id": "b7c1e79c",
   "metadata": {},
   "outputs": [
    {
     "name": "stdout",
     "output_type": "stream",
     "text": [
      "Enter 3\n",
      "*    **    **    **\n",
      " *  *  *  *  *  *  \n",
      "  **    **    **    \n",
      "*    **    **    **\n",
      " *  *  *  *  *  *  \n",
      "  **    **    **    \n",
      "*    **    **    **\n",
      " *  *  *  *  *  *  \n",
      "  **    **    **    \n"
     ]
    }
   ],
   "source": [
    "a=int(input(\"Enter \"))\n",
    "i=1             # i is for iteration in while loop\n",
    "x=1             # x is for to check condition and do iteration \n",
    "z=a             # z is for storing value of a and check for break condition \n",
    "b=(2*a)-2       # b is calculating how many space sholud be there between two \"*\" for each line as line number increasing \n",
    "c=b             # c is for give back origanal value of spacing to start agian for next loop\n",
    "#for i in range(1,(a*a)+1):\n",
    "while i<((a*a)+1):\n",
    "    #print(i)\n",
    "    if i<=z:\n",
    "        if i==1:\n",
    "            print(\"*\",end=\"\")\n",
    "            print((\" \"*b+\"**\")*a)\n",
    "        else:\n",
    "            #print(\" \"*(i-1)+((\"*\"+\" \"*(b-2))*2))\n",
    "            #print((\"*\"+\" \"*(b-2))*2)\n",
    "            print(\" \"*(i-1),end=\"\")\n",
    "            print((\"*\"+\" \"*(b-2)+\"*\"+\" \"*(2*(i-1)))*a)\n",
    "            b-=2         \n",
    "    else:\n",
    "        if x==z:\n",
    "            break\n",
    "        else:\n",
    "            i=0\n",
    "            b=c\n",
    "            x=x+1\n",
    "    i+=1\n",
    "   "
   ]
  },
  {
   "cell_type": "code",
   "execution_count": 4,
   "id": "3c44d739",
   "metadata": {},
   "outputs": [
    {
     "name": "stdout",
     "output_type": "stream",
     "text": [
      "Enter 3\n",
      "  **    **    **    \n",
      " *  *  *  *  *  *  \n",
      "*    **    **    *\n",
      "  **    **    **    \n",
      " *  *  *  *  *  *  \n",
      "*    **    **    *\n",
      "  **    **    **    \n",
      " *  *  *  *  *  *  \n",
      "*    **    **    *\n"
     ]
    }
   ],
   "source": [
    "a=int(input(\"Enter \"))\n",
    "i=a             # i is for iteration in while loop\n",
    "x=1             # x is for to check condition and do iteration \n",
    "z=a             # z is for storing value of a and check for break condition \n",
    "b=(2*a)-2       # b is calculating how many space sholud be there between two \"*\" for each line as line number increasing \n",
    "#print(b)\n",
    "d=1\n",
    "c=b             # c is for give back origanal value of spacing to start agian for next loop\n",
    "#for i in range(1,(a*a)+1):\n",
    "while i<((a*a)-1):\n",
    "    #print(i)\n",
    "    if i<=z and i>0:\n",
    "        if i==1:\n",
    "            print((\"*\"+\" \"*c+\"*\")*a)\n",
    "            #print((\" \"*c)*a)\n",
    "        elif i==a:\n",
    "            print(\" \"*(i-1),end=\"\")\n",
    "            print((\"**\"+\" \"*(b))*a)\n",
    "        else:\n",
    "            #print(\" \"*(i-1)+((\"*\"+\" \"*(b-2))*2))\n",
    "            #print((\"*\"+\" \"*(b-2))*2)\n",
    "            print(\" \"*(i-1),end=\"\")\n",
    "            print((\"*\"+\" \"*(d*2)+\"*\"+\" \"*(b-2))*a)\n",
    "            #print(b)\n",
    "            b-=2\n",
    "            d+=1\n",
    "    else:\n",
    "        if x==z:\n",
    "            break\n",
    "        else:\n",
    "            i=a+1\n",
    "            b=c\n",
    "            d=1\n",
    "            x=x+1\n",
    "    i-=1\n",
    "    "
   ]
  }
 ],
 "metadata": {
  "kernelspec": {
   "display_name": "Python 3 (ipykernel)",
   "language": "python",
   "name": "python3"
  },
  "language_info": {
   "codemirror_mode": {
    "name": "ipython",
    "version": 3
   },
   "file_extension": ".py",
   "mimetype": "text/x-python",
   "name": "python",
   "nbconvert_exporter": "python",
   "pygments_lexer": "ipython3",
   "version": "3.9.7"
  }
 },
 "nbformat": 4,
 "nbformat_minor": 5
}
